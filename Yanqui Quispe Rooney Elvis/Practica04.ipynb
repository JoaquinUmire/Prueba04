{
 "cells": [
  {
   "cell_type": "markdown",
   "id": "7f096f50-a00f-49a0-a404-76816356535d",
   "metadata": {},
   "source": [
    "<div style=\"text-align: center;\">\n",
    "    <h1 style=\"font-size:30px;\">Universidad Nacional de San Agustín de Arequipa</h1>\n",
    "    <h1 style=\"font-size:30px;\">Escuela Profesional de Ingeniería de</h1>\n",
    "    <h1 style=\"font-size:30px;\">Telecomunicaciones</h1>"
   ]
  },
  {
   "cell_type": "markdown",
   "id": "589f4159-2e09-4e1e-963a-16f8cc2c9858",
   "metadata": {},
   "source": [
    "<div style=\"text-align: center;\">\n",
    "    <img src=\"Captura de pantalla 2024-11-20 205836.png\" alt=\"Mi imagen\" width=\"400\">\n",
    "</div>"
   ]
  },
  {
   "cell_type": "markdown",
   "id": "f7701e78-7f77-44db-b066-b3f5d7ade088",
   "metadata": {},
   "source": [
    "<div style=\"text-align: center;\">\n",
    "    <h1 style=\"font-size:30px;\">Ingeniero Renzo Bolivar ‑ Docente DAIE</h1>\n",
    "    <h1 style=\"font-size:30px;\">Curso : Computación 1</h1>"
   ]
  },
  {
   "cell_type": "markdown",
   "id": "72b36bb4-651b-4ef8-a63c-322ee0f3f838",
   "metadata": {},
   "source": [
    "<div style=\"text-align: center;\">\n",
    "    <hr style=\"border: none; height: 5px; background: linear-gradient(to right, purple, blue);\">\n",
    "    <h1 style=\"font-size:40px; font-weight:bold; margin: 10px 0;\">PRÁCTICA 04</h1>\n",
    "    <h1 style=\"font-size:40px; font-weight:bold; margin: 10px 0;\">PYTHON ‑ Estructura Iterativa ‑ \"for\"\n",
    "</h1>\n",
    "    <hr style=\"border: none; height: 5px; background: linear-gradient(to right, purple, blue);\">\n",
    "</div>"
   ]
  },
  {
   "cell_type": "markdown",
   "id": "84bfde40-e860-4653-8b80-2a0be405ffa7",
   "metadata": {},
   "source": [
    "# Descripción:"
   ]
  },
  {
   "cell_type": "markdown",
   "id": "5aee474f-23ea-4574-a89f-62b13c3a4e78",
   "metadata": {},
   "source": [
    "<div style=\"border: 2px solid #00bcd4; padding: 15px; border-radius: 10px; background-color: #f9f9f9;\">\n",
    "    <p style=\"font-size:18px;\">\n",
    "        En el presente notebook se define <b>Estructuras Iterativas</b> el comando <i>for</i> en el lenguaje de programación Python.\n",
    "    </p>\n",
    "</div>\n",
    "\n",
    "\n",
    "# Objetivos:\n",
    "\n",
    "\n",
    "1. Introducción a Estructuras Iterativas\n",
    "\n",
    "1. Estructura Iterativa *for*\n",
    "\n",
    "1. Entorno de trabajo en **Jupyter Notebook** y **Spyder**.\n",
    "\n",
    "1. Práctica **Colaborativa** con sincronización en **GitLab**."
   ]
  },
  {
   "cell_type": "markdown",
   "id": "be02119c-c54c-447b-9894-157fad0ad768",
   "metadata": {},
   "source": [
    "1. [Estructura Iterativa - Bucle \"for\"](#)\n",
    "2. [Función \"range\"](#)\n",
    "3. [Función \"break\" y \"continue\"](#)\n",
    "\n",
    "[EJEMPLOS](#)  \n",
    "[EJERCICIOS](#)  \n",
    "[BIBLIOGRAFÍA](#)"
   ]
  },
  {
   "cell_type": "markdown",
   "id": "075dbf99-8434-481b-ad07-cfb0a32b4f85",
   "metadata": {},
   "source": [
    "<div style=\"background: linear-gradient(to right, #7b2ff7, #00b0ff); height: 4px; margin-bottom: 10px;\"></div>"
   ]
  },
  {
   "cell_type": "markdown",
   "id": "3dfc97da-955a-4d45-926e-c25cc3908220",
   "metadata": {},
   "source": [
    "<div style=\"text-align: center;\">\n",
    "    <img src=\"Captura de pantalla 2024-11-20 202200.png\" alt=\"Mi imagen\" width=\"400\">\n",
    "</div>"
   ]
  },
  {
   "cell_type": "markdown",
   "id": "d911837c-582d-41b2-a3b2-8f56ff250150",
   "metadata": {},
   "source": [
    "<div style=\"border-left: 4px solid lightgray; padding-left: 10px; margin-bottom: 15px; font-family: Arial;\">\n",
    "    <!-- Aquí va el contenido -->\n",
    "</div>"
   ]
  },
  {
   "cell_type": "markdown",
   "id": "ed0f6e90-7a47-4877-ab32-3936220b5637",
   "metadata": {},
   "source": [
    "<div style=\"text-align: center;\">\n",
    "    <hr style=\"border: none; height: 5px; background: linear-gradient(to right, purple, blue);\">\n",
    "    <h1 style=\"font-size:40px; font-weight:bold; margin: 10px 0;\">DESARROLLO</h1>\n",
    "    <hr style=\"border: none; height: 5px; background: linear-gradient(to right, purple, blue);\">\n",
    "</div>"
   ]
  },
  {
   "cell_type": "markdown",
   "id": "4a358ae1-3274-4ec4-8219-914cc24c4866",
   "metadata": {},
   "source": [
    "<div style=\"background: linear-gradient(to right, #00b0ff, #00ffcc); height: 4px; margin-bottom: 10px;\"></div>\n",
    "\n",
    "<h1 style=\"font-size: 22px; font-family: Arial; color: #0056b3;\">\n",
    "    1. Estructura Iterativa - Bucle <i>\"for\"</i>\n",
    "</h1>\n",
    "\n",
    "<div style=\"border: 2px solid #00b0ff; padding: 15px; border-radius: 8px; font-family: Arial; font-size: 16px; line-height: 1.6;\">\n",
    "    <p>El <b>Bucle for</b> se utiliza para recorrer los elementos de un <b>objeto iterable</b> (lista, tupla, string, diccionario, ...) y <b>ejecutar un bloque de código</b>. En cada paso de la iteración se tiene en cuenta a un único elemento del objeto iterable, sobre el cuál se pueden aplicar una serie de operaciones.</p>\n",
    "</div>"
   ]
  },
  {
   "cell_type": "code",
   "execution_count": 5,
   "id": "4813a43b-4102-4096-8821-4ac5e8c01fd3",
   "metadata": {},
   "outputs": [
    {
     "ename": "SyntaxError",
     "evalue": "invalid syntax (978705421.py, line 1)",
     "output_type": "error",
     "traceback": [
      "\u001b[1;36m  Cell \u001b[1;32mIn[5], line 1\u001b[1;36m\u001b[0m\n\u001b[1;33m    for <var> in <iterable>:\u001b[0m\n\u001b[1;37m        ^\u001b[0m\n\u001b[1;31mSyntaxError\u001b[0m\u001b[1;31m:\u001b[0m invalid syntax\n"
     ]
    }
   ],
   "source": [
    "for <var> in <iterable>:\n",
    "    <código>\n",
    "    <código>\n",
    "    ...................."
   ]
  },
  {
   "cell_type": "markdown",
   "id": "c2d966dc-404a-435f-afa1-7bc6fbce5eae",
   "metadata": {},
   "source": [
    "## Usamos for"
   ]
  },
  {
   "cell_type": "code",
   "execution_count": 8,
   "id": "65dc7443-7ee9-4ad8-8fd3-bc05266bf734",
   "metadata": {},
   "outputs": [
    {
     "name": "stdout",
     "output_type": "stream",
     "text": [
      "6\n",
      "23\n",
      "89\n",
      "120\n"
     ]
    }
   ],
   "source": [
    "#'for' iterando una lista\n",
    "num = [6, 23, 89, 120 ]\n",
    "for n in num:\n",
    "    print(n)"
   ]
  },
  {
   "cell_type": "code",
   "execution_count": 1,
   "id": "54faa8b4-6c32-4377-a085-b2291eb05a93",
   "metadata": {},
   "outputs": [
    {
     "name": "stdout",
     "output_type": "stream",
     "text": [
      "M\n",
      "a\n",
      "x\n",
      "i\n",
      "m\n",
      "i\n",
      "l\n",
      "i\n",
      "a\n",
      "n\n",
      "o\n"
     ]
    }
   ],
   "source": [
    "#'for' iterando un string\n",
    "nom = \"Maximiliano\"\n",
    "for letra in nom:\n",
    "    print(letra)"
   ]
  },
  {
   "cell_type": "code",
   "execution_count": 2,
   "id": "96e86f28-da45-4609-bbfd-f73739342344",
   "metadata": {},
   "outputs": [
    {
     "name": "stdout",
     "output_type": "stream",
     "text": [
      "HolaMilita, la longitud de tu nombre es de : 6 caracteres. \n",
      "HolaLuisito, la longitud de tu nombre es de : 7 caracteres. \n",
      "HolaPablito, la longitud de tu nombre es de : 7 caracteres. \n",
      "HolaAlexandito, la longitud de tu nombre es de : 10 caracteres. \n"
     ]
    }
   ],
   "source": [
    "#'for' hallando la longitud de los elementos de una lista\n",
    "for nombre in ['Milita', 'Luisito', 'Pablito', 'Alexandito']:\n",
    "    print('Hola{0}, la longitud de tu nombre es de : {1} caracteres. '.format(nombre,len(nombre)))"
   ]
  },
  {
   "cell_type": "markdown",
   "id": "d31b00c4-f43d-4e67-b39a-e5320c3fbdf9",
   "metadata": {},
   "source": [
    "**Hacer un programa que itere a lo largo de una lista que contenga colores y añada (appends) todos los colocres que contengan la letra r a una nueva lista**"
   ]
  },
  {
   "cell_type": "code",
   "execution_count": 3,
   "id": "1b9ea951-9cee-4c42-8828-daeb5fad99ea",
   "metadata": {},
   "outputs": [
    {
     "name": "stdout",
     "output_type": "stream",
     "text": [
      "['amarillo', 'rojo', 'púrpura', 'negro']\n"
     ]
    }
   ],
   "source": [
    "#lista de colores\n",
    "colo = [\"amarillo\", \"rojo\", \"púrpura\", \"blanco\", \"negro\", \"limon\"]\n",
    "#nueva lista\n",
    "colo_con_r = []\n",
    "\n",
    "for m in colo:\n",
    "    if 'r' in m:\n",
    "        colo_con_r.append(m)\n",
    "print(colo_con_r)"
   ]
  },
  {
   "cell_type": "markdown",
   "id": "669fa37a-fa3e-4f2c-a534-36bc914391a1",
   "metadata": {},
   "source": [
    "<div style=\"border-left: 4px solid lightgray; padding-left: 10px; margin-bottom: 15px; font-family: Arial;\">\n",
    "    <!-- Aquí va el contenido -->\n",
    "</div>"
   ]
  },
  {
   "cell_type": "markdown",
   "id": "fa01f747-a5d2-4a32-8908-1c1079142a72",
   "metadata": {},
   "source": [
    "<h1 style=\"font-size: 22px; font-family: Arial; color: #0056b3;\">\n",
    "    2. Función \"range\" <i>\n",
    "</h1>"
   ]
  },
  {
   "cell_type": "code",
   "execution_count": 5,
   "id": "c1848cbd-9837-4ab3-b96b-4b2a7ee3fe38",
   "metadata": {},
   "outputs": [
    {
     "name": "stdout",
     "output_type": "stream",
     "text": [
      "0\n",
      "1\n",
      "2\n",
      "3\n",
      "4\n",
      "5\n",
      "6\n",
      "7\n",
      "8\n",
      "9\n",
      "10\n",
      "11\n"
     ]
    }
   ],
   "source": [
    "#'for' utilizando la función 'range' con 1 parametro\n",
    "for i in range(12):\n",
    "    print(i)\n",
    "    "
   ]
  },
  {
   "cell_type": "markdown",
   "id": "eaeefc1a-0d6a-434a-954e-ecc715ff8546",
   "metadata": {},
   "source": [
    "### **Hacer un programa que imprima de numero 1 al 10**"
   ]
  },
  {
   "cell_type": "code",
   "execution_count": 6,
   "id": "0d5e8d4d-444d-43a4-8c30-08dad1f12fe1",
   "metadata": {},
   "outputs": [
    {
     "name": "stdout",
     "output_type": "stream",
     "text": [
      "1 2 3 4 5 6 7 8 9 10 "
     ]
    }
   ],
   "source": [
    "# Podemos usar un argumento\n",
    "# añadiremos el parametro end=\"\" para que por defecto no genere una nueva linea\n",
    "\n",
    "for i in range(10):\n",
    "    print(i + 1, \"\", end=\"\")"
   ]
  },
  {
   "cell_type": "code",
   "execution_count": 8,
   "id": "cc7fd5b2-7033-4ab4-a5ea-9e430b395f9d",
   "metadata": {},
   "outputs": [
    {
     "name": "stdout",
     "output_type": "stream",
     "text": [
      "1 2 3 4 5 6 7 8 9 10 "
     ]
    }
   ],
   "source": [
    "# Podemos usar dos valores para definir el inicio y el final\n",
    "\n",
    "for i in range(1, 11):\n",
    "    print(i, \"\", end=\"\")"
   ]
  },
  {
   "cell_type": "markdown",
   "id": "da9021e7-0a6e-4ace-84e1-64e167de4dc8",
   "metadata": {},
   "source": [
    "### **Ejemplos de función range**"
   ]
  },
  {
   "cell_type": "code",
   "execution_count": 10,
   "id": "057cb4bb-33f2-47dd-a6db-b5535838547b",
   "metadata": {},
   "outputs": [
    {
     "name": "stdout",
     "output_type": "stream",
     "text": [
      "2 4 6 8 10 "
     ]
    }
   ],
   "source": [
    "# Podemos usar 3 para definir un inicio, un final y una longitud de paso(en este caso 2)\n",
    "\n",
    "for i in range(2,12,2):\n",
    "    print(i, \"\", end=\"\")"
   ]
  },
  {
   "cell_type": "code",
   "execution_count": 11,
   "id": "1fd0841b-7fcc-41f1-9144-1937e7c527cc",
   "metadata": {},
   "outputs": [
    {
     "name": "stdout",
     "output_type": "stream",
     "text": [
      "20 18 16 14 12 10 8 6 4 2 "
     ]
    }
   ],
   "source": [
    "# inicio=20 , un final=0 y ua longitud de paso-2\n",
    "for i in range(20,0,-2):\n",
    "    print(i, \"\", end=\"\")\n",
    "    "
   ]
  },
  {
   "cell_type": "code",
   "execution_count": 12,
   "id": "e6bac802-a6be-45f6-8a60-2629f05656b2",
   "metadata": {},
   "outputs": [
    {
     "name": "stdout",
     "output_type": "stream",
     "text": [
      "40 35 30 25 20 15 10 5 0 "
     ]
    }
   ],
   "source": [
    "# inicio=40 , un final=-5 y ua longitud de paso-5\n",
    "for i in range(40,-5,-5):\n",
    "    print(i, \"\", end=\"\")"
   ]
  },
  {
   "cell_type": "code",
   "execution_count": 15,
   "id": "a2d325fd-40bd-4050-9e92-cd6a1fd586f0",
   "metadata": {},
   "outputs": [],
   "source": [
    "# inicio=50 , un final=-1 y ua longitud de paso 5\n",
    "for i in range(50,-1,5):\n",
    "    print(i, \"\", end=\"\")"
   ]
  },
  {
   "cell_type": "code",
   "execution_count": 14,
   "id": "12a47029-62aa-4767-8c2c-c925a9489786",
   "metadata": {},
   "outputs": [
    {
     "name": "stdout",
     "output_type": "stream",
     "text": [
      "50 45 40 35 30 25 20 15 10 5 0 "
     ]
    }
   ],
   "source": [
    "# inicio=50 , un final=-1 y ua longitud de paso 5\n",
    "for i in range(50,-1,-5):\n",
    "    print(i, \"\", end=\"\")"
   ]
  },
  {
   "cell_type": "markdown",
   "id": "40180313-de63-4bdc-b276-0b20b84d5743",
   "metadata": {},
   "source": [
    "<h1 style=\"font-size: 22px; font-family: Arial; color: #0056b3;\">\n",
    "    3. Función \"break\" y \"continue\" <i>\n",
    "</h1>"
   ]
  },
  {
   "cell_type": "markdown",
   "id": "b7a78057-cba5-4766-b6c5-5420823a4888",
   "metadata": {},
   "source": [
    "### Modificando la iteración del bucle for: break y continue"
   ]
  },
  {
   "cell_type": "markdown",
   "id": "90f0bf89-8d0b-4a39-98bc-535d052a5b81",
   "metadata": {},
   "source": [
    "### Uso de break :"
   ]
  },
  {
   "cell_type": "markdown",
   "id": "84a60f16-b0f9-412c-a439-628ffd71096f",
   "metadata": {},
   "source": [
    "### Hacer un programa que de una lista de numeros imprima la posición del numero 9 :"
   ]
  },
  {
   "cell_type": "code",
   "execution_count": 22,
   "id": "cc3ff0c8-1505-43ba-ae5f-020e248bc6b7",
   "metadata": {},
   "outputs": [
    {
     "name": "stdout",
     "output_type": "stream",
     "text": [
      "5\n"
     ]
    }
   ],
   "source": [
    "#lita de numero\n",
    "lista = [2, 4, 5, 7, 8, 9, 3, 4]\n",
    "\n",
    "#utilizamos un contador iniciamos en 0 o en -1??\n",
    "cont = -1\n",
    "\n",
    "for m in lista:\n",
    "    cont = cont + 1\n",
    "    if m == 9:\n",
    "        break\n",
    "        \n",
    "print(cont)"
   ]
  },
  {
   "cell_type": "markdown",
   "id": "49158082-706f-4c64-9e16-73a0299d0e2d",
   "metadata": {},
   "source": [
    "### Asignación abreviada (contador abreviado):"
   ]
  },
  {
   "cell_type": "code",
   "execution_count": 23,
   "id": "eef387da-2950-41cd-aad7-d248038e8856",
   "metadata": {},
   "outputs": [
    {
     "name": "stdout",
     "output_type": "stream",
     "text": [
      "2\n"
     ]
    }
   ],
   "source": [
    "contador = 1\n",
    "#contador = contador + 1\n",
    "contador /= 5                             #Hay abreviaturas similares para -=, *=, /= y //=\n",
    "c=1\n",
    "c+=1\n",
    "print(c)"
   ]
  },
  {
   "cell_type": "code",
   "execution_count": 25,
   "id": "c92033ad-89c6-4d8f-bf26-3ea5b525ea51",
   "metadata": {},
   "outputs": [
    {
     "name": "stdout",
     "output_type": "stream",
     "text": [
      "No se encontro el numero 9\n"
     ]
    }
   ],
   "source": [
    "#Lista de numeros isn el numero '9'\n",
    "lista = [2, 4, 5, 7, 8, 19, 3, 4]\n",
    "\n",
    "#utilizamos un contador reducido\n",
    "cont = -1\n",
    "\n",
    "for m in lista:\n",
    "    cont += 1\n",
    "    if m == 9:\n",
    "        break\n",
    "else:\n",
    "    cont=-1\n",
    "    print(\"No se encontro el numero 9\")\n",
    "\n",
    "## Usamos 'for' conjuntamente com   'else'\n",
    "if cont >= 0:\n",
    "    print(cont)"
   ]
  },
  {
   "cell_type": "markdown",
   "id": "30e29ce8-d4dc-4dcf-99e5-b5bd7bb3818e",
   "metadata": {},
   "source": [
    "### Uso de continue:"
   ]
  },
  {
   "cell_type": "markdown",
   "id": "5483eb8c-5f96-45eb-b301-903da43a46a5",
   "metadata": {},
   "source": [
    "### Hacer un programa que de una lista de numeros imprima solo los numeros pares:"
   ]
  },
  {
   "cell_type": "code",
   "execution_count": 29,
   "id": "95a99884-6da2-4f9f-9a28-9bd941717242",
   "metadata": {},
   "outputs": [
    {
     "name": "stdout",
     "output_type": "stream",
     "text": [
      "12\n",
      "14\n",
      "108\n",
      "90\n",
      "200\n"
     ]
    }
   ],
   "source": [
    "#lista de numeros\n",
    "num = [12, 14, 15, 27, 108, 90, 33, 49, 200]\n",
    "\n",
    "for p in num:\n",
    "    if p % 2 != 0:\n",
    "        continue\n",
    "    print(p)"
   ]
  },
  {
   "cell_type": "markdown",
   "id": "b49e8ce8-c692-43cd-8993-fce32b45cad2",
   "metadata": {},
   "source": [
    "<div style=\"background: linear-gradient(to right, #00b0ff, #00ffcc); height: 4px; margin-bottom: 10px;\"></div>\n",
    "\n",
    "<h1 style=\"font-size: 22px; font-family: Arial; color: #0056b3;\">\n",
    "    EJEMPLOS </i>\n",
    "</h1>"
   ]
  },
  {
   "cell_type": "markdown",
   "id": "e4e9910e-7d98-4e79-96fe-64ece5f7969a",
   "metadata": {},
   "source": [
    "---\n",
    "\n",
    "<div style=\"border-top: 2px solid gray;\"></div>\n",
    "\n",
    "\n"
   ]
  },
  {
   "cell_type": "markdown",
   "id": "78f912c3-14ad-4dc5-b873-22453cda60fc",
   "metadata": {},
   "source": [
    "<div style=\"text-align: center; font-size: 24px; font-weight: bold; margin-bottom: 10px;\">\n",
    "\n",
    "   \n",
    "    EJEMPLOS\n",
    "</div>\n",
    "\n",
    "\n",
    "<div style=\"\n",
    "    border: 1px solid #00ACC1;\n",
    "    border-radius: 5px;\n",
    "    background-color: #F0F8FF;\n",
    "    padding: 15px;\n",
    "    font-family: Arial, sans-serif;\n",
    "    font-size: 14px;\n",
    "    color: #000000;\">\n",
    "    <b>RECORDAR</b> que se deberán entregar <b>02 archivos</b> (<i>carpeta persona</i>):\n",
    "    <ul>\n",
    "        <li><b>01 archivo Informe digitado en Practica04.ipynb</b> \n",
    "            (<i>Informe con texto enriquecido Markdown y HTML</i>).</li>\n",
    "        <li><b>01 archivo Informe digitado en el entorno de desarrollo de Spyder llamado Practica04.py</b> \n",
    "            (<i>Informe ordenado con comentarios y código Python</i>).</li>\n",
    "    </ul>\n",
    "</div>"
   ]
  },
  {
   "cell_type": "markdown",
   "id": "1e0515aa-8a39-45ec-a8fa-3607cd093347",
   "metadata": {},
   "source": [
    "## Estructura iterativa for"
   ]
  },
  {
   "cell_type": "markdown",
   "id": "b9c623b1-d842-449c-a46f-76cb60518a72",
   "metadata": {},
   "source": [
    "### Hacer un programa mostrar por pantalla los números pares del 0 al 10 :"
   ]
  },
  {
   "cell_type": "code",
   "execution_count": 5,
   "id": "954035d0-f229-4f21-9f90-3375a5a8a755",
   "metadata": {},
   "outputs": [
    {
     "name": "stdout",
     "output_type": "stream",
     "text": [
      "0\n",
      "2\n",
      "4\n",
      "6\n",
      "8\n",
      "10\n"
     ]
    }
   ],
   "source": [
    "for num in range(0, 11, 2):\n",
    "    print(num)\n"
   ]
  },
  {
   "cell_type": "markdown",
   "id": "4ee981fa-b1e1-4dbd-b537-0e2dc45dc736",
   "metadata": {},
   "source": [
    "### Hacer un programa que permita ingresar nombres a una lista, utilizando funciones:"
   ]
  },
  {
   "cell_type": "code",
   "execution_count": 8,
   "id": "2a5aea2f-91ee-4f8f-9a02-c5844c9597ac",
   "metadata": {},
   "outputs": [
    {
     "name": "stdin",
     "output_type": "stream",
     "text": [
      "De cuantos elementos crearemos la lista de nombres :  3\n",
      "Ingresar Nombre de la posición 0 :  Juansito\n",
      "Ingresar Nombre de la posición 1 :  Luisito\n",
      "Ingresar Nombre de la posición 2 :  Marianita\n"
     ]
    },
    {
     "name": "stdout",
     "output_type": "stream",
     "text": [
      "\n",
      " la lista completa de Nombres es :\n",
      " ['Juansito', 'Luisito', 'Marianita']\n"
     ]
    }
   ],
   "source": [
    "#Inicializamos la lista vacia\n",
    "nombres = []\n",
    "#función ingreso nombre\n",
    "def ingreso(ele):\n",
    "    for i in range(0,ele):\n",
    "        m = input(\"Ingresar Nombre de la posición {0} : \".format(i))\n",
    "        nombres.append(m)\n",
    "#Preguntamos de cuantos elementos conforman la lista\n",
    "l = int(input(\"De cuantos elementos crearemos la lista de nombres : \"))\n",
    "ingreso(l)\n",
    "print(\"\\n la lista completa de Nombres es :\\n\",nombres)"
   ]
  },
  {
   "cell_type": "markdown",
   "id": "65e81532-5e8f-482e-a36f-76a0c5dcdcd9",
   "metadata": {},
   "source": [
    "### Método2 : Hacer un programa que de una lista de numeros imprima la posición del numero 9 , utilizando función enumerate\n"
   ]
  },
  {
   "cell_type": "code",
   "execution_count": 2,
   "id": "457144b8-eadd-418e-bb1e-366942bab605",
   "metadata": {},
   "outputs": [
    {
     "name": "stdout",
     "output_type": "stream",
     "text": [
      "No se encontró el número 9\n"
     ]
    }
   ],
   "source": [
    "#lista de numeros\n",
    "lista = [2, 4, 5, 7, 8, 19, 3, 4]\n",
    "#utilizo la funcion `enumerate` que devuelve una tupla﴾es igual a lista pero es inmutable﴿\n",
    "#tupla de 2 elementos de una lista ﴾posición, contenido﴿\n",
    "for i,m in enumerate(lista):\n",
    "    if m == 9:\n",
    "        break\n",
    "else:\n",
    "## Usamos 'for'  conjuntamente con    'else'\n",
    "    #ponenmos negativa la posicion\n",
    "    i =  -1\n",
    "    print('No se encontró el número 9')\n",
    "if i >=0:\n",
    "    print(i)\n"
   ]
  },
  {
   "cell_type": "markdown",
   "id": "acc39974-8e90-4da0-ba87-d82d065c9ee4",
   "metadata": {},
   "source": [
    "### Hacer un programa que lea la lista de obras de Mario Vargas Llosa e indique el orden de los libros\n"
   ]
  },
  {
   "cell_type": "code",
   "execution_count": 4,
   "id": "9664ad57-f9fe-4510-b2f2-1c454a1056c2",
   "metadata": {},
   "outputs": [
    {
     "name": "stdout",
     "output_type": "stream",
     "text": [
      "\n",
      "El primer libro de Mario Vargas Llosa es: La ciudad y los perros\n",
      "\n",
      "El segundo libro de Mario Vargas Llosa es: La casa verde\n",
      "\n",
      "El tercer libro de Mario Vargas Llosa es: Pantaleón y las visitadoras\n"
     ]
    }
   ],
   "source": [
    "obras_mvll=[\"La ciudad y los perros\",\"La casa verde\",\"Pantaleón y las visitadoras\"]\n",
    "\n",
    "orden=[\"primer\",\"segundo\",\"tercer\"]\n",
    "\n",
    "for i, libro in enumerate(obras_mvll):\n",
    "    print(\"\\nEl \" + orden[i] +\" libro de Mario Vargas Llosa es: \" + libro)"
   ]
  },
  {
   "cell_type": "markdown",
   "id": "6395df44-8901-4365-86db-cc0aedfc5709",
   "metadata": {},
   "source": [
    "### Hacer un programa que realice invitaciones de una lista de nombres"
   ]
  },
  {
   "cell_type": "code",
   "execution_count": 5,
   "id": "454ac8ae-aa85-4f83-b58e-8ec8ffb36d1b",
   "metadata": {},
   "outputs": [
    {
     "name": "stdout",
     "output_type": "stream",
     "text": [
      "Hola Joel.  ¡Por favor, ven a mi fiesta el sábado!\n",
      "Hola Nati.  ¡Por favor, ven a mi fiesta el sábado!\n",
      "Hola Jehu.  ¡Por favor, ven a mi fiesta el sábado!\n",
      "Hola Angeles.  ¡Por favor, ven a mi fiesta el sábado!\n",
      "Hola Maryori.  ¡Por favor, ven a mi fiesta el sábado!\n",
      "Hola Lucila.  ¡Por favor, ven a mi fiesta el sábado!\n",
      "Hola Mirella.  ¡Por favor, ven a mi fiesta el sábado!\n",
      "Hola Cesar.  ¡Por favor, ven a mi fiesta el sábado!\n"
     ]
    }
   ],
   "source": [
    "for f in [\"Joel\", \"Nati\", \"Jehu\", \"Angeles\", \"Maryori\", \"Lucila\", \"Mirella\", \"Cesar\"]:\n",
    "    invitation = \"Hola \" + f + \".  ¡Por favor, ven a mi fiesta el sábado!\"\n",
    "    print(invitation)"
   ]
  },
  {
   "cell_type": "markdown",
   "id": "a6ff091f-e1c2-402b-b237-1359e2571a5e",
   "metadata": {},
   "source": [
    "### Hacer un programa que sume los elementos de una lista, utilizar funciones y for"
   ]
  },
  {
   "cell_type": "code",
   "execution_count": 6,
   "id": "d4e24a3b-5043-468c-aced-5a47d0f58a36",
   "metadata": {},
   "outputs": [
    {
     "name": "stdout",
     "output_type": "stream",
     "text": [
      "10\n",
      "5.5\n",
      "6\n",
      "10\n",
      "55\n",
      "0\n"
     ]
    }
   ],
   "source": [
    "def mysum(xs):\n",
    "    \"\"\" Suma todos los números de la lista xs, y devuelve el total. \"\"\"\n",
    "    running_total = 0\n",
    "    for x in xs:\n",
    "        running_total = running_total + x\n",
    "    return running_total\n",
    "print(mysum([1, 2, 3, 4]))# ==>>\n",
    "print(mysum([1.25, 2.5, 1.75]))\n",
    "print(mysum([1,  2, 3]))\n",
    "print(mysum([1, 2, 3, 4]))\n",
    "print(mysum(range(11)))\n",
    "print(mysum([]))\n"
   ]
  },
  {
   "cell_type": "markdown",
   "id": "31050623-d45a-45f3-840b-d4ede8ba5905",
   "metadata": {},
   "source": [
    "#### Hacer un programa que sume los elementos de una lista, usamos función sum\n"
   ]
  },
  {
   "cell_type": "code",
   "execution_count": 7,
   "id": "b6b646ed-d09d-4dcd-a2d4-8ad52b3c9d39",
   "metadata": {},
   "outputs": [
    {
     "data": {
      "text/plain": [
       "10"
      ]
     },
     "execution_count": 7,
     "metadata": {},
     "output_type": "execute_result"
    }
   ],
   "source": [
    "m = [1, 2, 3, 4]\n",
    "sum(m)"
   ]
  },
  {
   "cell_type": "markdown",
   "id": "7caa6714-7010-45d8-910b-9288b5bd4894",
   "metadata": {},
   "source": [
    "#### Hacer un programa que imprima los multiplos hasta el numero 10 de cualquier numero"
   ]
  },
  {
   "cell_type": "code",
   "execution_count": 8,
   "id": "dfda347d-b9fe-4efb-83ad-853a76dfafde",
   "metadata": {},
   "outputs": [
    {
     "name": "stdin",
     "output_type": "stream",
     "text": [
      "Ingrese un numero:  3\n"
     ]
    },
    {
     "name": "stdout",
     "output_type": "stream",
     "text": [
      "\n",
      "Los multiplos de  3 son: \n",
      "3   6   9   12   15   18   21   24   27   30   \n"
     ]
    }
   ],
   "source": [
    "def multiplos(n):\n",
    "    for i in range(1, 11):\n",
    "        print(n * i, end=\"   \")\n",
    "    print()\n",
    "\n",
    "m = int(input(\"Ingrese un numero: \"))\n",
    "print(\"\\nLos multiplos de \", m, \"son: \")\n",
    "multiplos(m)\n"
   ]
  },
  {
   "cell_type": "markdown",
   "id": "2b142b25-36be-44a8-ae10-3249f0bf3421",
   "metadata": {},
   "source": [
    "### Ejemplo de for anidado : Creación de tablas\n"
   ]
  },
  {
   "cell_type": "code",
   "execution_count": 9,
   "id": "a04125ae-f014-4383-a878-25f76ad43e24",
   "metadata": {},
   "outputs": [
    {
     "name": "stdout",
     "output_type": "stream",
     "text": [
      "0 0 0\n",
      "0 0 1\n",
      "0 1 0\n",
      "0 1 1\n",
      "0 2 0\n",
      "0 2 1\n",
      "0 3 0\n",
      "0 3 1\n",
      "1 0 0\n",
      "1 0 1\n",
      "1 1 0\n",
      "1 1 1\n",
      "1 2 0\n",
      "1 2 1\n",
      "1 3 0\n",
      "1 3 1\n",
      "2 0 0\n",
      "2 0 1\n",
      "2 1 0\n",
      "2 1 1\n",
      "2 2 0\n",
      "2 2 1\n",
      "2 3 0\n",
      "2 3 1\n",
      "3 0 0\n",
      "3 0 1\n",
      "3 1 0\n",
      "3 1 1\n",
      "3 2 0\n",
      "3 2 1\n",
      "3 3 0\n",
      "3 3 1\n"
     ]
    }
   ],
   "source": [
    "for i in range(0,4):\n",
    "    for j in range(0,4):\n",
    "        for k in range(0,2):\n",
    "            print(i,j,k)"
   ]
  },
  {
   "cell_type": "markdown",
   "id": "873d748b-2bae-41c2-b782-b31ca50b0480",
   "metadata": {},
   "source": [
    "#### Hacer un programa que permita hallar la raiz enesima de un numero que se ingresara por teclado :"
   ]
  },
  {
   "cell_type": "code",
   "execution_count": 10,
   "id": "12efe406-f085-48cf-95d1-6eeea393da68",
   "metadata": {},
   "outputs": [
    {
     "name": "stdin",
     "output_type": "stream",
     "text": [
      "Ingrese un número:  6\n"
     ]
    },
    {
     "name": "stdout",
     "output_type": "stream",
     "text": [
      "la raiz 2 ésima de 6.0 es 2.449489742783178\n",
      "la raiz 3 ésima de 6.0 es 1.8171205928321397\n",
      "la raiz 4 ésima de 6.0 es 1.5650845800732873\n",
      "la raiz 5 ésima de 6.0 es 1.4309690811052556\n",
      "la raiz 6 ésima de 6.0 es 1.3480061545972777\n",
      "la raiz 7 ésima de 6.0 es 1.2917083420907467\n",
      "la raiz 8 ésima de 6.0 es 1.2510334048590739\n",
      "la raiz 9 ésima de 6.0 es 1.2202849358728105\n",
      "la raiz 10 ésima de 6.0 es 1.1962311988513155\n",
      "la raiz 11 ésima de 6.0 es 1.1769039562428527\n",
      "la raiz 12 ésima de 6.0 es 1.1610366723739942\n",
      "la raiz 13 ésima de 6.0 es 1.1477777154347986\n",
      "la raiz 14 ésima de 6.0 es 1.1365334760097243\n",
      "la raiz 15 ésima de 6.0 es 1.1268776101908264\n",
      "la raiz 16 ésima de 6.0 es 1.1184960459738218\n",
      "la raiz 17 ésima de 6.0 es 1.1111523342970424\n",
      "la raiz 18 ésima de 6.0 es 1.1046650785974952\n",
      "la raiz 19 ésima de 6.0 es 1.0988928027655247\n",
      "la raiz 20 ésima de 6.0 es 1.0937235477264424\n",
      "la raiz 21 ésima de 6.0 es 1.0890675587944523\n",
      "la raiz 22 ésima de 6.0 es 1.0848520434800557\n",
      "la raiz 23 ésima de 6.0 es 1.0810173469046067\n",
      "la raiz 24 ésima de 6.0 es 1.0775141170184241\n",
      "la raiz 25 ésima de 6.0 es 1.0743011732208552\n",
      "la raiz 26 ésima de 6.0 es 1.0713438829035236\n",
      "la raiz 27 ésima de 6.0 es 1.0686129101356392\n",
      "la raiz 28 ésima de 6.0 es 1.0660832406569969\n",
      "la raiz 29 ésima de 6.0 es 1.063733414541692\n",
      "la raiz 30 ésima de 6.0 es 1.0615449167090512\n",
      "la raiz 31 ésima de 6.0 es 1.0595016886637296\n",
      "la raiz 32 ésima de 6.0 es 1.0575897342418854\n",
      "la raiz 33 ésima de 6.0 es 1.0557967989083417\n",
      "la raiz 34 ésima de 6.0 es 1.0541121070820896\n",
      "la raiz 35 ésima de 6.0 es 1.0525261456012585\n",
      "la raiz 36 ésima de 6.0 es 1.0510304841428222\n",
      "la raiz 37 ésima de 6.0 es 1.0496176254437533\n",
      "la raiz 38 ésima de 6.0 es 1.0482808797099776\n",
      "la raiz 39 ésima de 6.0 es 1.0470142587761369\n",
      "la raiz 40 ésima de 6.0 es 1.045812386485474\n",
      "la raiz 41 ésima de 6.0 es 1.0446704224624213\n",
      "la raiz 42 ésima de 6.0 es 1.0435839969999792\n",
      "la raiz 43 ésima de 6.0 es 1.042549155216214\n",
      "la raiz 44 ésima de 6.0 es 1.0415623089763069\n",
      "la raiz 45 ésima de 6.0 es 1.0406201953489853\n",
      "la raiz 46 ésima de 6.0 es 1.039719840584283\n",
      "la raiz 47 ésima de 6.0 es 1.038858528775155\n",
      "la raiz 48 ésima de 6.0 es 1.0380337745075658\n",
      "la raiz 49 ésima de 6.0 es 1.0372432989191824\n",
      "la raiz 50 ésima de 6.0 es 1.0364850086811943\n",
      "la raiz 51 ésima de 6.0 es 1.0357569774952138\n",
      "la raiz 52 ésima de 6.0 es 1.0350574297610367\n",
      "la raiz 53 ésima de 6.0 es 1.0343847261238408\n",
      "la raiz 54 ésima de 6.0 es 1.0337373506532688\n",
      "la raiz 55 ésima de 6.0 es 1.0331138994434157\n",
      "la raiz 56 ésima de 6.0 es 1.0325130704533463\n",
      "la raiz 57 ésima de 6.0 es 1.0319336544334674\n",
      "la raiz 58 ésima de 6.0 es 1.0313745268047354\n",
      "la raiz 59 ésima de 6.0 es 1.0308346403759792\n",
      "la raiz 60 ésima de 6.0 es 1.0303130188001368\n",
      "la raiz 61 ésima de 6.0 es 1.0298087506834\n",
      "la raiz 62 ésima de 6.0 es 1.0293209842725104\n",
      "la raiz 63 ésima de 6.0 es 1.0288489226550819\n",
      "la raiz 64 ésima de 6.0 es 1.0283918194160655\n",
      "la raiz 65 ésima de 6.0 es 1.0279489747005777\n",
      "la raiz 66 ésima de 6.0 es 1.027519731639418\n",
      "la raiz 67 ésima de 6.0 es 1.0271034730988913\n",
      "la raiz 68 ésima de 6.0 es 1.0266996187211181\n",
      "la raiz 69 ésima de 6.0 es 1.0263076222249912\n",
      "la raiz 70 ésima de 6.0 es 1.0259269689413855\n",
      "la raiz 71 ésima de 6.0 es 1.0255571735592441\n",
      "la raiz 72 ésima de 6.0 es 1.0251977780617856\n",
      "la raiz 73 ésima de 6.0 es 1.0248483498343846\n",
      "la raiz 74 ésima de 6.0 es 1.0245084799276936\n",
      "la raiz 75 ésima de 6.0 es 1.0241777814613477\n",
      "la raiz 76 ésima de 6.0 es 1.0238558881551532\n",
      "la raiz 77 ésima de 6.0 es 1.0235424529760397\n",
      "la raiz 78 ésima de 6.0 es 1.0232371468902683\n",
      "la raiz 79 ésima de 6.0 es 1.0229396577114687\n",
      "la raiz 80 ésima de 6.0 es 1.0226496890360228\n",
      "la raiz 81 ésima de 6.0 es 1.0223669592581706\n",
      "la raiz 82 ésima de 6.0 es 1.0220912006579554\n",
      "la raiz 83 ésima de 6.0 es 1.021822158555803\n",
      "la raiz 84 ésima de 6.0 es 1.0215595905281194\n",
      "la raiz 85 ésima de 6.0 es 1.0213032656788383\n",
      "la raiz 86 ésima de 6.0 es 1.0210529639623078\n",
      "la raiz 87 ésima de 6.0 es 1.0208084755533517\n",
      "la raiz 88 ésima de 6.0 es 1.0205696002607108\n",
      "la raiz 89 ésima de 6.0 es 1.0203361469804202\n",
      "la raiz 90 ésima de 6.0 es 1.0201079331859866\n",
      "la raiz 91 ésima de 6.0 es 1.0198847844525065\n",
      "la raiz 92 ésima de 6.0 es 1.0196665340121167\n",
      "la raiz 93 ésima de 6.0 es 1.0194530223384006\n",
      "la raiz 94 ésima de 6.0 es 1.0192440967575702\n",
      "la raiz 95 ésima de 6.0 es 1.019039611084432\n",
      "la raiz 96 ésima de 6.0 es 1.0188394252813178\n",
      "la raiz 97 ésima de 6.0 es 1.0186434051383018\n",
      "la raiz 98 ésima de 6.0 es 1.018451421973175\n",
      "la raiz 99 ésima de 6.0 es 1.0182633523497657\n",
      "la raiz 100 ésima de 6.0 es 1.0180790778133073\n"
     ]
    }
   ],
   "source": [
    "numero = float(input(\"Ingrese un número: \"))\n",
    "for n in range(2, 101):\n",
    "    print(\"la raiz {0} ésima de {1} es {2}\".format(n, numero, numero**(1/n)))"
   ]
  },
  {
   "cell_type": "code",
   "execution_count": 11,
   "id": "74ff5bf3-ccbd-4d93-9d0b-d06807127a5c",
   "metadata": {},
   "outputs": [
    {
     "name": "stdin",
     "output_type": "stream",
     "text": [
      "Ingrese su nombre:  Paco\n"
     ]
    },
    {
     "name": "stdout",
     "output_type": "stream",
     "text": [
      "Nombre Correcto\n",
      "Nombre Correcto\n",
      "Nombre Correcto\n",
      "Nombre Correcto\n"
     ]
    },
    {
     "name": "stdin",
     "output_type": "stream",
     "text": [
      "Ingrese su apellido:  Torres\n"
     ]
    },
    {
     "name": "stdout",
     "output_type": "stream",
     "text": [
      "Nombre Correcto\n",
      "Nombre Correcto\n",
      "Nombre Correcto\n",
      "Nombre Correcto\n",
      "Nombre Correcto\n",
      "Nombre Correcto\n"
     ]
    }
   ],
   "source": [
    "num = ['1','2','3','4','5','6','7','8','9','0']\n",
    "sim = ['?','!','$','%','&','/','ª','º']\n",
    "def validar(nomap):\n",
    "    for x in nomap:\n",
    "        if x in num:\n",
    "            print('Nombre no valido!!!')\n",
    "        elif x in sim:\n",
    "            print('Nombre no valido!!!')\n",
    "        else:\n",
    "            print('Nombre Correcto')\n",
    "\n",
    "nom = input('Ingrese su nombre: ')\n",
    "\n",
    "validar(nom)\n",
    "\n",
    "apell = input('Ingrese su apellido: ')\n",
    "\n",
    "validar(apell)"
   ]
  },
  {
   "cell_type": "code",
   "execution_count": null,
   "id": "1d06e57e-b18c-4417-8bd3-76fb93363f1b",
   "metadata": {},
   "outputs": [],
   "source": []
  }
 ],
 "metadata": {
  "kernelspec": {
   "display_name": "Python 3 (ipykernel)",
   "language": "python",
   "name": "python3"
  },
  "language_info": {
   "codemirror_mode": {
    "name": "ipython",
    "version": 3
   },
   "file_extension": ".py",
   "mimetype": "text/x-python",
   "name": "python",
   "nbconvert_exporter": "python",
   "pygments_lexer": "ipython3",
   "version": "3.13.0"
  }
 },
 "nbformat": 4,
 "nbformat_minor": 5
}
