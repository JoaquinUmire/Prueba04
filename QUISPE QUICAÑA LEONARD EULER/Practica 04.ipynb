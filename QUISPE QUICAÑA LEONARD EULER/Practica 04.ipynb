{
 "cells": [
  {
   "cell_type": "markdown",
   "id": "f0b2ce9c-4e4e-4030-bab1-acb3baae9187",
   "metadata": {},
   "source": [
    "                                              ESTRUCTURA ITERATIVA"
   ]
  },
  {
   "cell_type": "markdown",
   "id": "86b94586-315d-4083-ba48-18e5581d7bbb",
   "metadata": {},
   "source": [
    "Usamos \"FOR\" "
   ]
  },
  {
   "cell_type": "code",
   "execution_count": 2,
   "id": "b8cd0d0d-1058-4bc8-a386-1694cf176187",
   "metadata": {},
   "outputs": [
    {
     "name": "stdout",
     "output_type": "stream",
     "text": [
      "6\n",
      "23\n",
      "89\n",
      "120\n"
     ]
    }
   ],
   "source": [
    "num = [6, 23, 89, 120 ]\n",
    "for n in num: \n",
    "    print(n)"
   ]
  },
  {
   "cell_type": "code",
   "execution_count": 4,
   "id": "5bf82e66-e4b5-4d19-859a-fea658416bb9",
   "metadata": {},
   "outputs": [
    {
     "name": "stdout",
     "output_type": "stream",
     "text": [
      "M\n",
      "a\n",
      "x\n",
      "i\n",
      "m\n",
      "i\n",
      "l\n",
      "i\n",
      "a\n",
      "n\n",
      "o\n"
     ]
    }
   ],
   "source": [
    "nom = \"Maximiliano\"\n",
    "for letra in nom: \n",
    "    print(letra)"
   ]
  },
  {
   "cell_type": "code",
   "execution_count": 5,
   "id": "146e3284-8da2-4035-a1dd-036835cfaec6",
   "metadata": {},
   "outputs": [
    {
     "name": "stdout",
     "output_type": "stream",
     "text": [
      "Hola Milita, la longitud de tu nombre es de: 6 caracteres.\n",
      "Hola Luisito, la longitud de tu nombre es de: 7 caracteres.\n",
      "Hola Pablito, la longitud de tu nombre es de: 7 caracteres.\n",
      "Hola Alexandito, la longitud de tu nombre es de: 10 caracteres.\n"
     ]
    }
   ],
   "source": [
    "for nombre in ['Milita', 'Luisito', 'Pablito', 'Alexandito']:\n",
    "    print ('Hola {0}, la longitud de tu nombre es de: {1} caracteres.'.format(nombre,len(nombre)))"
   ]
  },
  {
   "cell_type": "code",
   "execution_count": 6,
   "id": "e596f8ec-e912-4e02-ae31-b64cd79fe92f",
   "metadata": {},
   "outputs": [
    {
     "name": "stdout",
     "output_type": "stream",
     "text": [
      "['amarillo', 'rojo', 'verde', 'púrpura', 'negro']\n"
     ]
    }
   ],
   "source": [
    "colo = [\"amarillo\", \"rojo\", \"verde\", \"azul\", \"púrpura\",\"blanco\", \"negro\", \"limon\"]\n",
    "colo_con_r = []\n",
    "\n",
    "\n",
    "for m in colo:\n",
    "    if 'r' in m:\n",
    "        colo_con_r.append(m)\n",
    "print(colo_con_r)"
   ]
  },
  {
   "cell_type": "markdown",
   "id": "07460a12-faa8-4130-9853-06309e1377e2",
   "metadata": {},
   "source": [
    "Función \"RANGE\"  "
   ]
  },
  {
   "cell_type": "code",
   "execution_count": 7,
   "id": "e61af228-1bd7-4da1-a52b-1d74b0695f90",
   "metadata": {},
   "outputs": [
    {
     "name": "stdout",
     "output_type": "stream",
     "text": [
      "0\n",
      "1\n",
      "2\n",
      "3\n",
      "4\n",
      "5\n",
      "6\n",
      "7\n",
      "8\n",
      "9\n",
      "10\n",
      "11\n"
     ]
    }
   ],
   "source": [
    "for i in range(12):\n",
    "    print(i)"
   ]
  },
  {
   "cell_type": "code",
   "execution_count": 8,
   "id": "f1b21eda-56c1-4498-9dc1-8c1e8ad147a6",
   "metadata": {},
   "outputs": [
    {
     "name": "stdout",
     "output_type": "stream",
     "text": [
      "1 2 3 4 5 6 7 8 9 10 "
     ]
    }
   ],
   "source": [
    "for i in range(10):\n",
    "    print(i + 1, \"\", end=\"\")"
   ]
  },
  {
   "cell_type": "code",
   "execution_count": 9,
   "id": "84917be2-c1db-4ab8-ac3b-c1a3d0e9ed73",
   "metadata": {},
   "outputs": [
    {
     "name": "stdout",
     "output_type": "stream",
     "text": [
      "1 2 3 4 5 6 7 8 9 10 "
     ]
    }
   ],
   "source": [
    "for i in range(1, 11):\n",
    "    print(i, \"\", end=\"\")"
   ]
  },
  {
   "cell_type": "code",
   "execution_count": 11,
   "id": "d975d96b-ac34-4a10-8bff-0abb170b8c46",
   "metadata": {},
   "outputs": [
    {
     "name": "stdout",
     "output_type": "stream",
     "text": [
      "2 4 6 8 "
     ]
    }
   ],
   "source": [
    "for i in range(2,10,2):\n",
    "    print(i, \"\", end=\"\")"
   ]
  },
  {
   "cell_type": "code",
   "execution_count": 12,
   "id": "f8ee466f-e76c-4603-b819-b6a0d2120415",
   "metadata": {},
   "outputs": [
    {
     "name": "stdout",
     "output_type": "stream",
     "text": [
      "20 18 16 14 12 10 8 6 4 2 "
     ]
    }
   ],
   "source": [
    "for i in range(20,0,-2):\n",
    "    print(i, \"\", end=\"\")"
   ]
  },
  {
   "cell_type": "code",
   "execution_count": 13,
   "id": "d1570e28-5636-471d-bf20-a3eebecdd52c",
   "metadata": {},
   "outputs": [
    {
     "name": "stdout",
     "output_type": "stream",
     "text": [
      "40 35 30 25 20 15 10 5 0 "
     ]
    }
   ],
   "source": [
    "for i in range(40,-5,-5):\n",
    "    print(i, \"\", end=\"\")"
   ]
  },
  {
   "cell_type": "code",
   "execution_count": 16,
   "id": "96da5a54-29a1-4bb4-9388-8012bfefbf5c",
   "metadata": {},
   "outputs": [],
   "source": [
    "for i in range(50,-1,5):\n",
    "    print(i, \"\", end=\"\")"
   ]
  },
  {
   "cell_type": "markdown",
   "id": "1326b166-a24d-49b2-954a-79205bd2039b",
   "metadata": {},
   "source": [
    "El inicio es en 50 y el fin en -1 pero como los pasos son crecientes, jamas se cumplira la condición, es decir, no se ejecutará el print"
   ]
  },
  {
   "cell_type": "markdown",
   "id": "b39e31a6-dff3-4f22-8a81-333a49eb9df8",
   "metadata": {},
   "source": [
    "Modificando la iteracion del bucle for: BREAK y CONTINUE "
   ]
  },
  {
   "cell_type": "code",
   "execution_count": 18,
   "id": "c8e71f6e-57af-4c5f-9ab5-33740f25ab65",
   "metadata": {},
   "outputs": [
    {
     "name": "stdout",
     "output_type": "stream",
     "text": [
      "5\n"
     ]
    }
   ],
   "source": [
    "lista = [2, 4, 5, 7, 8, 9, 3, 4]\n",
    "\n",
    "cont = -1\n",
    "\n",
    "for m in lista: \n",
    "    cont = cont + 1\n",
    "    if m == 9:\n",
    "        break\n",
    "print(cont)"
   ]
  },
  {
   "cell_type": "code",
   "execution_count": 23,
   "id": "c00c09c7-5a71-44fa-a1fa-eb59d35a69d3",
   "metadata": {},
   "outputs": [
    {
     "name": "stdout",
     "output_type": "stream",
     "text": [
      "2\n"
     ]
    }
   ],
   "source": [
    "contador = 1\n",
    "contador /= 5\n",
    "\n",
    "c = 1\n",
    "c += 1\n",
    "print (c)"
   ]
  },
  {
   "cell_type": "code",
   "execution_count": 24,
   "id": "fd66b7b8-6aa9-4962-a6b7-e306ccc3b236",
   "metadata": {},
   "outputs": [
    {
     "name": "stdout",
     "output_type": "stream",
     "text": [
      "No se encontro el numero 9\n"
     ]
    }
   ],
   "source": [
    "lista = [2, 4, 5, 7, 8, 19, 3, 4]\n",
    "\n",
    "cont = -1\n",
    "for m in lista:\n",
    "    cont += 1\n",
    "    if m == 9:\n",
    "        break\n",
    "else:\n",
    "    cont = -1\n",
    "    print(\"No se encontro el numero 9\")\n",
    "\n",
    "if cont >= 0:\n",
    "    print (cont)"
   ]
  },
  {
   "cell_type": "markdown",
   "id": "b13dd535-1bbb-44ec-8660-80f87da01e7a",
   "metadata": {},
   "source": [
    "\n",
    "Uso de \"CONTINUE\""
   ]
  },
  {
   "cell_type": "code",
   "execution_count": 25,
   "id": "b2fdf8cb-6b32-4fc2-a453-a941629cafc9",
   "metadata": {},
   "outputs": [
    {
     "name": "stdout",
     "output_type": "stream",
     "text": [
      "12\n",
      "14\n",
      "108\n",
      "90\n",
      "200\n"
     ]
    }
   ],
   "source": [
    "num = [12, 14, 15, 27, 108, 90, 33, 49, 200]\n",
    "for p in num:\n",
    "    if p % 2 != 0:\n",
    "        continue\n",
    "    print(p)"
   ]
  },
  {
   "cell_type": "code",
   "execution_count": null,
   "id": "1fdb1489-87e5-48e7-9a17-74134311f0fd",
   "metadata": {},
   "outputs": [],
   "source": []
  }
 ],
 "metadata": {
  "kernelspec": {
   "display_name": "Python 3 (ipykernel)",
   "language": "python",
   "name": "python3"
  },
  "language_info": {
   "codemirror_mode": {
    "name": "ipython",
    "version": 3
   },
   "file_extension": ".py",
   "mimetype": "text/x-python",
   "name": "python",
   "nbconvert_exporter": "python",
   "pygments_lexer": "ipython3",
   "version": "3.13.0"
  }
 },
 "nbformat": 4,
 "nbformat_minor": 5
}
