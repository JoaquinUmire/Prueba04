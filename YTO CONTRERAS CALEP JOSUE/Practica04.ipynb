{
 "cells": [
  {
   "cell_type": "markdown",
   "id": "14312c77-532f-4642-9a9f-22dc59f0ad63",
   "metadata": {},
   "source": [
    "1. ESTRUCTURA ITERATIVA - BUCLE for"
   ]
  },
  {
   "cell_type": "markdown",
   "id": "eec8b758-f8b4-4edd-bf50-52e8456cc0fa",
   "metadata": {},
   "source": [
    "    Usamos for:"
   ]
  },
  {
   "cell_type": "code",
   "execution_count": 2,
   "id": "3b43dc6e-afe2-4142-8e8d-78230f897441",
   "metadata": {},
   "outputs": [
    {
     "name": "stdout",
     "output_type": "stream",
     "text": [
      "4\n",
      "7\n",
      "20\n",
      "91\n",
      "304\n"
     ]
    }
   ],
   "source": [
    "#for iterando una lista\n",
    "num = [4, 7, 20, 91, 304]\n",
    "for x in num:\n",
    "    print(x)\n"
   ]
  },
  {
   "cell_type": "code",
   "execution_count": 3,
   "id": "183c2b6e-3543-45ab-8f76-2ad0ae0db576",
   "metadata": {},
   "outputs": [
    {
     "name": "stdout",
     "output_type": "stream",
     "text": [
      "K\n",
      "v\n",
      "a\n",
      "r\n",
      "a\n",
      "t\n",
      "s\n",
      "k\n",
      "h\n",
      "e\n",
      "l\n",
      "i\n",
      "a\n"
     ]
    }
   ],
   "source": [
    "#for iterando un string\n",
    "nom = 'Kvaratskhelia'\n",
    "for letra in nom:\n",
    "    print(letra)\n"
   ]
  },
  {
   "cell_type": "code",
   "execution_count": 6,
   "id": "1fb66a6b-fefb-4d2e-93b2-8fc56e5088ee",
   "metadata": {},
   "outputs": [
    {
     "name": "stdout",
     "output_type": "stream",
     "text": [
      "Hola Leonel, la longitud de tu nombre es de: 6 caracteres.\n",
      "Hola Eduardo, la longitud de tu nombre es de: 7 caracteres.\n",
      "Hola Adrian, la longitud de tu nombre es de: 6 caracteres.\n",
      "Hola Augusto, la longitud de tu nombre es de: 7 caracteres.\n",
      "Hola Alessandro, la longitud de tu nombre es de: 10 caracteres.\n"
     ]
    }
   ],
   "source": [
    "#for hallando la longitud de los elementos de una lista \n",
    "for nom in ['Leonel', 'Eduardo', 'Adrian', 'Augusto', 'Alessandro']:\n",
    "    print(f'Hola {nom}, la longitud de tu nombre es de: {len(nom)} caracteres.')\n"
   ]
  },
  {
   "cell_type": "markdown",
   "id": "0612baa5-8898-4db6-8d3e-7e062ff4a6f1",
   "metadata": {},
   "source": [
    "    Hacer un programa que itere a lo largo de una lista que contenga colores y añada (appends) todos los colores que contengan la letra r a una nueva lista."
   ]
  },
  {
   "cell_type": "code",
   "execution_count": 8,
   "id": "4f09aa0b-d22e-4f78-be1f-84a56baf546e",
   "metadata": {},
   "outputs": [
    {
     "name": "stdout",
     "output_type": "stream",
     "text": [
      "['amarillo', 'rojo', 'verde', 'morado', 'negro', 'gris']\n"
     ]
    }
   ],
   "source": [
    "#lista de colores\n",
    "color = ['amarillo', 'rojo', 'verde', 'azul', 'morado', 'blanco', 'negro', 'limon', 'gris']\n",
    "#nueva lista\n",
    "con_r = []\n",
    "\n",
    "for x in color:\n",
    "    if 'r' in x:\n",
    "        con_r.append(x)\n",
    "\n",
    "print(con_r)"
   ]
  },
  {
   "cell_type": "markdown",
   "id": "d34e7038-e020-4241-a30c-d0eae1635687",
   "metadata": {},
   "source": [
    "2. FUNCIÓN \"range\""
   ]
  },
  {
   "cell_type": "code",
   "execution_count": 2,
   "id": "3226b218-b7af-44a6-ad49-5af070780e0a",
   "metadata": {},
   "outputs": [
    {
     "name": "stdout",
     "output_type": "stream",
     "text": [
      "0\n",
      "1\n",
      "2\n",
      "3\n",
      "4\n",
      "5\n",
      "6\n",
      "7\n",
      "8\n",
      "9\n",
      "10\n"
     ]
    }
   ],
   "source": [
    "#for utilizando la función `range` con 1 parametro\n",
    "for i in range(11):\n",
    "    print(i)\n",
    "    "
   ]
  },
  {
   "cell_type": "markdown",
   "id": "32376457-adee-4fdd-af88-6da04becf6f7",
   "metadata": {},
   "source": [
    "    Hacer un programa que imprima del numero 1 al 10"
   ]
  },
  {
   "cell_type": "code",
   "execution_count": 16,
   "id": "12665968-e5db-476f-a454-00e90ff2e391",
   "metadata": {},
   "outputs": [
    {
     "name": "stdout",
     "output_type": "stream",
     "text": [
      "1  2  3  4  5  6  7  8  9  10  "
     ]
    }
   ],
   "source": [
    "#Podemos usar un argumento\n",
    "#añadiremos el parametro end=\"\" para que por defecto no genere una nueva linea\n",
    "\n",
    "for i in range(10):\n",
    "    print(i+1, end=\"  \")\n"
   ]
  },
  {
   "cell_type": "code",
   "execution_count": 17,
   "id": "0498a031-5a09-488c-b53c-11852c2946a8",
   "metadata": {},
   "outputs": [
    {
     "name": "stdout",
     "output_type": "stream",
     "text": [
      "1  2  3  4  5  6  7  8  9  10  "
     ]
    }
   ],
   "source": [
    "#Podemos usar dos valores para definir el inicio y el final\n",
    "\n",
    "for i in range(1,11):\n",
    "    print(i, end=\"  \")"
   ]
  },
  {
   "cell_type": "markdown",
   "id": "cef1bfb6-a815-4629-aab9-351d620aff68",
   "metadata": {},
   "source": [
    "    Ejemplos de función range"
   ]
  },
  {
   "cell_type": "code",
   "execution_count": 18,
   "id": "c7f01343-de12-49c0-8b72-61569202ba0f",
   "metadata": {},
   "outputs": [
    {
     "name": "stdout",
     "output_type": "stream",
     "text": [
      "2  4  6  8  10  12  14  16  "
     ]
    }
   ],
   "source": [
    "#Podemos usar 3 para definir un inicio, un final y una longitud de paso (eneste caso 2)\n",
    "\n",
    "for i in range(2,18,2):\n",
    "    print(i, end=\"  \")"
   ]
  },
  {
   "cell_type": "code",
   "execution_count": 31,
   "id": "480a6838-7c0d-4232-b2ae-3239f237501f",
   "metadata": {},
   "outputs": [
    {
     "name": "stdout",
     "output_type": "stream",
     "text": [
      "20  18  16  14  12  10  8  6  4  2  "
     ]
    }
   ],
   "source": [
    "# inicio=20, un final=0 y una longitud de paso -2\n",
    "\n",
    "for i in range(20,0,-2):\n",
    "    print(i, end=\"  \")"
   ]
  },
  {
   "cell_type": "code",
   "execution_count": 26,
   "id": "46d495cd-3c63-4283-912e-1d0cf70f7e48",
   "metadata": {},
   "outputs": [
    {
     "name": "stdout",
     "output_type": "stream",
     "text": [
      "40  35  30  25  20  15  10  "
     ]
    }
   ],
   "source": [
    "#inicio=40, un final=5 y una longitud de paso -5\n",
    "\n",
    "for i in range(40,5,-5):\n",
    "    print(i, end=\"  \")\n",
    "    "
   ]
  },
  {
   "cell_type": "code",
   "execution_count": 30,
   "id": "de674ac6-0964-45e2-bfef-9d8a182cbd39",
   "metadata": {},
   "outputs": [],
   "source": [
    "#inicio=50, un final=-1 y una longitud de paso 5\n",
    "\n",
    "for i in range(50,-1,5):\n",
    "    print(i, end=\"  \")\n"
   ]
  },
  {
   "cell_type": "markdown",
   "id": "11bda9fa-e012-465e-af0c-9793dac0a9e2",
   "metadata": {},
   "source": [
    "3. FUNCIÓN \"break\" Y \"continue\""
   ]
  },
  {
   "cell_type": "markdown",
   "id": "20105fa2-3d89-4a9e-b8f3-3fdaba83dd6b",
   "metadata": {},
   "source": [
    "    Uso de break:"
   ]
  },
  {
   "cell_type": "markdown",
   "id": "87f78d75-7cc2-48d1-b159-c4555cb9fa97",
   "metadata": {},
   "source": [
    "Hacer un programa que de una lista de numeros imprima la posición del numero 9 :"
   ]
  },
  {
   "cell_type": "code",
   "execution_count": 3,
   "id": "2d8f44f3-b88c-47db-bf3f-94aafbd496fe",
   "metadata": {},
   "outputs": [
    {
     "name": "stdout",
     "output_type": "stream",
     "text": [
      "7\n"
     ]
    }
   ],
   "source": [
    "#lista de numero\n",
    "lista = [4,5,6,7,1,8,9,10,3]\n",
    "\n",
    "#utilizamos un contador iniciamos en 0 o en -1??\n",
    "c = 0\n",
    "for x in lista:\n",
    "    c = c + 1\n",
    "    if x == 9:\n",
    "        break\n",
    "print(c)\n"
   ]
  },
  {
   "cell_type": "markdown",
   "id": "219546e2-def0-439a-a425-79f5d9da674c",
   "metadata": {},
   "source": [
    "Asignación abreviada (contador abreviado):"
   ]
  },
  {
   "cell_type": "code",
   "execution_count": 5,
   "id": "cab67a59-f584-4c73-a47c-afe45160e5dc",
   "metadata": {},
   "outputs": [
    {
     "name": "stdout",
     "output_type": "stream",
     "text": [
      "4\n"
     ]
    }
   ],
   "source": [
    "#contador = contador+1\n",
    "cont = 1\n",
    "cont *= 4\n",
    "print(cont)\n"
   ]
  },
  {
   "cell_type": "code",
   "execution_count": 9,
   "id": "33c01741-828c-4c54-8912-c0829fefef63",
   "metadata": {},
   "outputs": [
    {
     "name": "stdout",
     "output_type": "stream",
     "text": [
      "No se encontro el numero\n"
     ]
    }
   ],
   "source": [
    "#lista de numeros sin el numero `9`\n",
    "lista = [2,3,7,8,4,5,11,20]\n",
    "c = 0\n",
    "for x in lista:\n",
    "    c = c + 1\n",
    "    if x == 9:\n",
    "        break\n",
    "##Usamos 'for' conjuntamente con 'else'\n",
    "else:\n",
    "    c = -1\n",
    "    print('No se encontro el numero')\n",
    "if c >= 0:\n",
    "    print(c) \n"
   ]
  },
  {
   "cell_type": "markdown",
   "id": "d4519c97-77ac-4986-b91b-3cc1fae59c67",
   "metadata": {},
   "source": [
    "    Uso de continue :"
   ]
  },
  {
   "cell_type": "markdown",
   "id": "e600589c-14e6-4534-8831-c063fe8a0379",
   "metadata": {},
   "source": [
    "Hacer un programa que de una lista de numeros imprima solo los numeros pares:"
   ]
  },
  {
   "cell_type": "code",
   "execution_count": 10,
   "id": "8535c3b8-548c-4478-90fc-1d7390a97a1b",
   "metadata": {},
   "outputs": [
    {
     "name": "stdout",
     "output_type": "stream",
     "text": [
      "12\n",
      "34\n",
      "56\n",
      "78\n",
      "78\n",
      "90\n",
      "34\n"
     ]
    }
   ],
   "source": [
    "#lista de numeros\n",
    "num = [12,34,56,78,33,78,90,5,34,65]\n",
    "\n",
    "for x in num:\n",
    "    if x % 2 != 0:\n",
    "        continue\n",
    "    print(x)"
   ]
  },
  {
   "cell_type": "markdown",
   "id": "873577f3-441e-4ce0-843a-3d94ea5582ce",
   "metadata": {},
   "source": [
    "EJEMPLOS"
   ]
  },
  {
   "cell_type": "markdown",
   "id": "3e640932-98f7-4d67-a2f9-1bcf342469d0",
   "metadata": {},
   "source": [
    "Estructura iterativa for"
   ]
  },
  {
   "cell_type": "markdown",
   "id": "f42de2b4-926f-4172-9c0b-6a5d9b4df1ca",
   "metadata": {},
   "source": [
    "Hacer un programa mostrar por pantalla los números pares del 0 al 10 :"
   ]
  },
  {
   "cell_type": "code",
   "execution_count": 13,
   "id": "a1404090-2579-4d5a-85b5-a137df774585",
   "metadata": {},
   "outputs": [
    {
     "name": "stdout",
     "output_type": "stream",
     "text": [
      "0\n",
      "2\n",
      "4\n",
      "6\n",
      "8\n",
      "10\n"
     ]
    }
   ],
   "source": [
    "for num in range(0,11,2):\n",
    "    print(num)"
   ]
  },
  {
   "cell_type": "markdown",
   "id": "f00647b8-d45e-4b0c-9fda-1b7c722ec107",
   "metadata": {},
   "source": [
    "Hacer un programa que permita ingresar nombres a una lista, utilizando funciones:"
   ]
  },
  {
   "cell_type": "code",
   "execution_count": 15,
   "id": "8632b727-b6c6-4d06-8681-bf098c7ce512",
   "metadata": {},
   "outputs": [
    {
     "name": "stdin",
     "output_type": "stream",
     "text": [
      "De cuantos elementos crearemos la lista de nombres :  4\n",
      "Ingresar Nombre de la posición 0 :  Eduardo\n",
      "Ingresar Nombre de la posición 1 :  Anthony\n",
      "Ingresar Nombre de la posición 2 :  Nando\n",
      "Ingresar Nombre de la posición 3 :  Leonel\n"
     ]
    },
    {
     "name": "stdout",
     "output_type": "stream",
     "text": [
      "\n",
      " La lista completa de Nombres es :\n",
      " ['Eduardo', 'Anthony', 'Nando', 'Leonel']\n"
     ]
    }
   ],
   "source": [
    "#Inicializamos la lista vacia\n",
    "nombres = []\n",
    "\n",
    "#función ingresonombre\n",
    "def ingreso(ele):\n",
    "    for i in range(0,ele):\n",
    "        m = input(\"Ingresar Nombre de la posición {0} : \".format(i))\n",
    "        nombres.append(m)\n",
    "#Preguntamos de cuantos elementos conforman la lista\n",
    "l = int(input(\"De cuantos elementos crearemos la lista de nombres : \"))\n",
    "ingreso(l)\n",
    "print(\"\\n La lista completa de Nombres es :\\n\",nombres)\n"
   ]
  },
  {
   "cell_type": "markdown",
   "id": "d8b56575-45f4-4a92-8762-54326bec80ba",
   "metadata": {},
   "source": [
    "Método2 : Hacer un programa que de una lista de numeros imprima la posición del numero 9 , utilizando función enumerate"
   ]
  },
  {
   "cell_type": "code",
   "execution_count": 22,
   "id": "f8fdad3d-154f-4153-b2dd-11aad584529b",
   "metadata": {},
   "outputs": [
    {
     "name": "stdout",
     "output_type": "stream",
     "text": [
      "No se encontró el número 9\n"
     ]
    }
   ],
   "source": [
    "#lista de numeros \n",
    "lista = [2, 4, 5, 7, 8, 19, 3, 4, 8, ]\n",
    "#utilizo la funcion `enumerate` que devuelve una tupla (es igual a lista pero es inmutable)\n",
    "#tupla de 2 elementos de una lista (posición, contenido)\n",
    "\n",
    "for i,m in enumerate(lista):\n",
    "    if m == 9:\n",
    "        break\n",
    "else:\n",
    "#Usamos 'for' conjuntamente con 'else'\n",
    "#ponenmos negativa la posicion \n",
    "    i = -1\n",
    "    print('No se encontró el número 9')\n",
    "if i >=0:\n",
    "    print(i)\n"
   ]
  },
  {
   "cell_type": "markdown",
   "id": "10c6a11d-696a-41cd-89ba-43f243478616",
   "metadata": {},
   "source": [
    "Hacer un programa que lea la lista de obras de Mario Vargas Llosa e indique el orden de los libros"
   ]
  },
  {
   "cell_type": "code",
   "execution_count": 26,
   "id": "0487d1c3-be78-4b4e-bb00-b47b4b3730fd",
   "metadata": {},
   "outputs": [
    {
     "name": "stdout",
     "output_type": "stream",
     "text": [
      "\n",
      "El primer libro de Mario Vargas Llosa es: La ciudad y los perros\n",
      "\n",
      "El segundo libro de Mario Vargas Llosa es: La casa verde\n",
      "\n",
      "El tercer libro de Mario Vargas Llosa es: Pantaleón y las visitadoras\n"
     ]
    }
   ],
   "source": [
    "#Lista de Libros de Mario Vargas Llosa\n",
    "obras_mvll=[\"La ciudad y los perros\",\"La casa verde\",\"Pantaleón y las visitadoras\"]\n",
    "#Lista Orden de los libros\n",
    "orden=[\"primer\",\"segundo\",\"tercer\"]\n",
    "\n",
    "#Utlizamos`enumerate`\n",
    "for i, libro in enumerate(obras_mvll):\n",
    "    print(f\"\\nEl {orden[i]} libro de Mario Vargas Llosa es: {libro}\")\n"
   ]
  },
  {
   "cell_type": "markdown",
   "id": "93ad7aa9-b7a5-464a-915b-68fe304cdd34",
   "metadata": {},
   "source": [
    "Hacer un programa que realice invitaciones de una lista de nombres"
   ]
  },
  {
   "cell_type": "code",
   "execution_count": 25,
   "id": "26822378-3512-4c74-8e69-7efa3c92dd9a",
   "metadata": {},
   "outputs": [
    {
     "name": "stdout",
     "output_type": "stream",
     "text": [
      "Hola Eduardo. ¡Por favor, ven ami fiesta elsábado!\n",
      "Hola Leonel. ¡Por favor, ven ami fiesta elsábado!\n",
      "Hola Anthony. ¡Por favor, ven ami fiesta elsábado!\n",
      "Hola Nando. ¡Por favor, ven ami fiesta elsábado!\n",
      "Hola Adrian. ¡Por favor, ven ami fiesta elsábado!\n",
      "Hola Alessandro. ¡Por favor, ven ami fiesta elsábado!\n",
      "Hola Patrick. ¡Por favor, ven ami fiesta elsábado!\n",
      "Hola Romell. ¡Por favor, ven ami fiesta elsábado!\n"
     ]
    }
   ],
   "source": [
    "for f in [\"Eduardo\", \"Leonel\", \"Anthony\", \"Nando\", \"Adrian\", \"Alessandro\", \"Patrick\", \"Romell\"]:\n",
    "    invitation = f\"Hola {f}. ¡Por favor, ven ami fiesta elsábado!\"\n",
    "    print(invitation)\n"
   ]
  },
  {
   "cell_type": "markdown",
   "id": "eb34b637-c7d4-45c8-9a2a-9b75119166ba",
   "metadata": {},
   "source": [
    "Hacer un programa que sume los elementos de una lista, utilizar funciones y for"
   ]
  },
  {
   "cell_type": "code",
   "execution_count": 27,
   "id": "1e019a3f-e94b-4585-b27a-765ef4020f39",
   "metadata": {},
   "outputs": [
    {
     "name": "stdout",
     "output_type": "stream",
     "text": [
      "10\n",
      "5.5\n",
      "2\n",
      "10\n",
      "55\n",
      "0\n"
     ]
    }
   ],
   "source": [
    "#solicita usar for y funciones, NO SE PUEDE USAR funcion `sum`\n",
    "def mysum(xs):\n",
    "    \"\"\" Suma todos los números de la lista xs, y devuelve el total. \"\"\"\n",
    "    running_total = 0\n",
    "    for x in xs:\n",
    "        running_total = running_total + x\n",
    "    return running_total\n",
    "    \n",
    "#Add tests like these to your test suite ...\n",
    "print(mysum([1, 2, 3, 4]))                   # ==>> 10\n",
    "print(mysum([1.25, 2.5, 1.75]))              # ==>> 5.5\n",
    "print(mysum([1, -2, 3]))                     # ==>> 2\n",
    "print(mysum([1, 2, 3, 4]))                   # ==>> 10\n",
    "print(mysum(range(11)))                      # ==>> 55\n",
    "print(mysum([]))                             # ==>> 0\n"
   ]
  },
  {
   "cell_type": "markdown",
   "id": "e7597ca0-0466-42e6-8c6f-6efda13f9df4",
   "metadata": {},
   "source": [
    "Hacer un programa que sume los elementos de una lista, usamos función sum"
   ]
  },
  {
   "cell_type": "code",
   "execution_count": 29,
   "id": "2a330951-1020-4b81-a2f1-0ef8b0e1a00d",
   "metadata": {},
   "outputs": [
    {
     "data": {
      "text/plain": [
       "25"
      ]
     },
     "execution_count": 29,
     "metadata": {},
     "output_type": "execute_result"
    }
   ],
   "source": [
    "x = [1,4,7,3,2,8]\n",
    "sum(x)\n"
   ]
  },
  {
   "cell_type": "markdown",
   "id": "a70de5e9-24d3-422d-a867-90f48039739d",
   "metadata": {},
   "source": [
    "Hacer un programa que imprima los multiplos hasta el numero 10 de cualquier numero"
   ]
  },
  {
   "cell_type": "code",
   "execution_count": 30,
   "id": "a379dfa2-4200-4417-a4a2-169ae46fa4ec",
   "metadata": {},
   "outputs": [
    {
     "name": "stdin",
     "output_type": "stream",
     "text": [
      "Ingrese un numero:  5\n"
     ]
    },
    {
     "name": "stdout",
     "output_type": "stream",
     "text": [
      "\n",
      "Los multiplos de , 5, son: \n",
      "5   10   15   20   25   30   35   40   45   50   \n"
     ]
    }
   ],
   "source": [
    "#Creamos la función multiplos\n",
    "def multiplos(x):\n",
    "    for i in range(1, 11):\n",
    "        print(x * i, end=\"   \")\n",
    "    print()\n",
    "    \n",
    "#Llamamosa la función con el numero de multiplodeseado\n",
    "y = int(input(\"Ingrese un numero: \"))\n",
    "print(f\"\\nLos multiplos de , {y}, son: \")\n",
    "multiplos(y)"
   ]
  },
  {
   "cell_type": "markdown",
   "id": "6cf18818-7410-4f2a-8792-6bfa425e251d",
   "metadata": {},
   "source": [
    "Ejemplo de for anidado : Creación de tablas"
   ]
  },
  {
   "cell_type": "code",
   "execution_count": 31,
   "id": "dfb397be-6b4e-4b2d-9c3c-9226093b1913",
   "metadata": {},
   "outputs": [
    {
     "name": "stdout",
     "output_type": "stream",
     "text": [
      "0 0 0\n",
      "0 0 1\n",
      "0 1 0\n",
      "0 1 1\n",
      "0 2 0\n",
      "0 2 1\n",
      "0 3 0\n",
      "0 3 1\n",
      "1 0 0\n",
      "1 0 1\n",
      "1 1 0\n",
      "1 1 1\n",
      "1 2 0\n",
      "1 2 1\n",
      "1 3 0\n",
      "1 3 1\n",
      "2 0 0\n",
      "2 0 1\n",
      "2 1 0\n",
      "2 1 1\n",
      "2 2 0\n",
      "2 2 1\n",
      "2 3 0\n",
      "2 3 1\n",
      "3 0 0\n",
      "3 0 1\n",
      "3 1 0\n",
      "3 1 1\n",
      "3 2 0\n",
      "3 2 1\n",
      "3 3 0\n",
      "3 3 1\n"
     ]
    }
   ],
   "source": [
    "for i in range(0,4):\n",
    "    for j in range(0,4):\n",
    "        for k in range(0,2):\n",
    "            print(i,j,k)\n"
   ]
  },
  {
   "cell_type": "markdown",
   "id": "60555946-efbd-4918-ad88-81237a8f7cba",
   "metadata": {},
   "source": [
    "Hacer un programa que permita hallar la raiz enesima de un numero que se ingresara por teclado :"
   ]
  },
  {
   "cell_type": "code",
   "execution_count": 32,
   "id": "065c4df7-0742-414f-912d-80cb8622df31",
   "metadata": {},
   "outputs": [
    {
     "name": "stdin",
     "output_type": "stream",
     "text": [
      "Ingrese un número:  8\n"
     ]
    },
    {
     "name": "stdout",
     "output_type": "stream",
     "text": [
      "la raiz 2-ésima de 8.0 es 2.8284271247461903\n",
      "la raiz 3-ésima de 8.0 es 2.0\n",
      "la raiz 4-ésima de 8.0 es 1.681792830507429\n",
      "la raiz 5-ésima de 8.0 es 1.5157165665103982\n",
      "la raiz 6-ésima de 8.0 es 1.414213562373095\n",
      "la raiz 7-ésima de 8.0 es 1.3459001926323562\n",
      "la raiz 8-ésima de 8.0 es 1.2968395546510096\n",
      "la raiz 9-ésima de 8.0 es 1.2599210498948732\n"
     ]
    }
   ],
   "source": [
    "numero = float(input(\"Ingrese un número: \"))\n",
    "for n in range(2, 10):\n",
    "    print(\"la raiz {0}-ésima de {1} es {2}\".format(n, numero, numero**(1/n)))\n"
   ]
  },
  {
   "cell_type": "code",
   "execution_count": 33,
   "id": "82563f29-9e9c-4d78-8a7d-a8d2e7d0c7bd",
   "metadata": {},
   "outputs": [
    {
     "name": "stdin",
     "output_type": "stream",
     "text": [
      "Ingrese su nombre:  Leonel\n"
     ]
    },
    {
     "name": "stdout",
     "output_type": "stream",
     "text": [
      "Nombre Correcto\n",
      "Nombre Correcto\n",
      "Nombre Correcto\n",
      "Nombre Correcto\n",
      "Nombre Correcto\n",
      "Nombre Correcto\n"
     ]
    },
    {
     "name": "stdin",
     "output_type": "stream",
     "text": [
      "Ingrese su apellido:  Quispe\n"
     ]
    },
    {
     "name": "stdout",
     "output_type": "stream",
     "text": [
      "Nombre Correcto\n",
      "Nombre Correcto\n",
      "Nombre Correcto\n",
      "Nombre Correcto\n",
      "Nombre Correcto\n",
      "Nombre Correcto\n"
     ]
    }
   ],
   "source": [
    "#Creo la lista de validacion\n",
    "num = ['1','2','3','4','5','6','7','8','9','0']\n",
    "sim = ['?','!','$','%','&','/','ª','º']\n",
    "#funcion\n",
    "def validar(nomap):\n",
    "    for x in nomap:\n",
    "        if x in num:\n",
    "            print('Nombre no valido!!!')\n",
    "        elif x in sim:\n",
    "            print('Nombre no valido!!!')\n",
    "        else:\n",
    "            print('Nombre Correcto')\n",
    "\n",
    "#ingresar nombre\n",
    "nom = input('Ingrese su nombre: ')\n",
    "\n",
    "#llamar a la funcion\n",
    "validar(nom)\n",
    "\n",
    "#ingresar nombre\n",
    "apell = input('Ingrese su apellido: ')\n",
    "\n",
    "#llamar a la funcion\n",
    "validar(apell)"
   ]
  }
 ],
 "metadata": {
  "kernelspec": {
   "display_name": "Python 3 (ipykernel)",
   "language": "python",
   "name": "python3"
  },
  "language_info": {
   "codemirror_mode": {
    "name": "ipython",
    "version": 3
   },
   "file_extension": ".py",
   "mimetype": "text/x-python",
   "name": "python",
   "nbconvert_exporter": "python",
   "pygments_lexer": "ipython3",
   "version": "3.12.5"
  }
 },
 "nbformat": 4,
 "nbformat_minor": 5
}
