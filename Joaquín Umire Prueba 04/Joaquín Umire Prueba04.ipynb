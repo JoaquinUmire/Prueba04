{
 "cells": [
  {
   "cell_type": "code",
   "execution_count": 3,
   "id": "2df4e948-8f7a-4e74-ab49-b036b2b5ee64",
   "metadata": {},
   "outputs": [
    {
     "name": "stdout",
     "output_type": "stream",
     "text": [
      "Los colores con letra r son: ['rojo', 'verde', 'amarillo', 'morado', 'negro']\n"
     ]
    }
   ],
   "source": [
    "colores = [\"rojo\", \"azul\", \"verde\", \"amarillo\", \"morado\", \"negro\", \"blanco\"]\n",
    "colorr = []\n",
    "for c in colores:\n",
    "    if 'r' in c:\n",
    "        colorr.append(c)\n",
    "print(f\"Los colores con letra r son: {colorr}\")"
   ]
  },
  {
   "cell_type": "code",
   "execution_count": 5,
   "id": "b1d5b62e-ff2e-4afa-8d00-e536f20e86a2",
   "metadata": {},
   "outputs": [
    {
     "name": "stdout",
     "output_type": "stream",
     "text": [
      "1\n",
      "2\n",
      "3\n",
      "4\n",
      "5\n",
      "6\n",
      "7\n",
      "8\n",
      "9\n",
      "10\n"
     ]
    }
   ],
   "source": [
    "for i in range(1,11):\n",
    "    print(i)"
   ]
  },
  {
   "cell_type": "code",
   "execution_count": 12,
   "id": "11ac8489-215c-4ba1-ba17-6bbe483afe27",
   "metadata": {},
   "outputs": [
    {
     "name": "stdout",
     "output_type": "stream",
     "text": [
      "La posición del número 9 es: 4\n"
     ]
    }
   ],
   "source": [
    "numeros = [3,7,1,5,9,2,8,9,9,9]\n",
    "for i in range(len(numeros)):\n",
    "    if numeros[i] == 9:\n",
    "        print(\"La posición del número 9 es:\", i)\n",
    "        break"
   ]
  },
  {
   "cell_type": "code",
   "execution_count": 13,
   "id": "502ce5ba-1157-4d7e-af5e-5f9a5c652879",
   "metadata": {},
   "outputs": [
    {
     "name": "stdout",
     "output_type": "stream",
     "text": [
      "2\n",
      "8\n",
      "6\n",
      "12\n"
     ]
    }
   ],
   "source": [
    "numeros = [3, 7, 2, 5, 8, 6, 9, 12, 15]\n",
    "for numero in numeros:\n",
    "    if numero%2!= 0:\n",
    "        continue\n",
    "    print(numero)"
   ]
  },
  {
   "cell_type": "code",
   "execution_count": null,
   "id": "9c295b97-5ceb-4ba6-8088-6719f9051367",
   "metadata": {},
   "outputs": [],
   "source": [
    "p = int(input(\"Digite un número: \"))\n",
    "i = int(input(\"Digite otro número: \"))\n",
    "num = (p, i)\n",
    "for num in range(p,i+1):\n",
    "    if num == 0:\n",
    "        print(f\"{num} no es par ni impar\")\n",
    "    elif num % 2 == 0:\n",
    "        print(f\"{num} es par\")\n",
    "    elif num % 2 != 0:\n",
    "        print(f\"{num} es impar\")"
   ]
  },
  {
   "cell_type": "code",
   "execution_count": null,
   "id": "cc05a5aa-d413-41af-99e8-c53600a9a652",
   "metadata": {},
   "outputs": [],
   "source": [
    "num = int(input(\"Digite un número: \"))\n",
    "i = num\n",
    "for i in range(0,11):\n",
    "    print(f\"{num} x {i} = {num*i}\")"
   ]
  }
 ],
 "metadata": {
  "kernelspec": {
   "display_name": "Python 3 (ipykernel)",
   "language": "python",
   "name": "python3"
  },
  "language_info": {
   "codemirror_mode": {
    "name": "ipython",
    "version": 3
   },
   "file_extension": ".py",
   "mimetype": "text/x-python",
   "name": "python",
   "nbconvert_exporter": "python",
   "pygments_lexer": "ipython3",
   "version": "3.12.6"
  }
 },
 "nbformat": 4,
 "nbformat_minor": 5
}
